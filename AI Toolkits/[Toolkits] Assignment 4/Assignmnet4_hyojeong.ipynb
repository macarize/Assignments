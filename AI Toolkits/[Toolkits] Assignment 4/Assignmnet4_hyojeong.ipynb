{
 "cells": [
  {
   "cell_type": "markdown",
   "id": "48a7c56a",
   "metadata": {},
   "source": [
    "1. Given an array of intervals where intervals[i] = [starti, endi], merge all overlapping intervals,\n",
    "and return an array of the non-overlapping intervals that cover all the intervals in the input (25\n",
    "points)."
   ]
  },
  {
   "cell_type": "code",
   "execution_count": null,
   "id": "2a288c27",
   "metadata": {},
   "outputs": [],
   "source": [
    "import numpy as np"
   ]
  },
  {
   "cell_type": "code",
   "execution_count": 2,
   "id": "d5f62ba3",
   "metadata": {},
   "outputs": [],
   "source": [
    "intervals_one = np.array([[1, 3], [2, 6], [8, 10], [15, 18]])\n",
    "intervals_two = np.array([[1, 4], [4, 5]])\n",
    "intervals_three = np.array([[1, 3], [2, 6], [8, 10], [15, 18], [16, 19], [18, 45]])"
   ]
  },
  {
   "cell_type": "code",
   "execution_count": 3,
   "id": "f628056d",
   "metadata": {},
   "outputs": [],
   "source": [
    "def overlapping_remover(intervals):\n",
    "    overlapping = True\n",
    "    i = 0\n",
    "    while overlapping:\n",
    "        overlapping = False\n",
    "        while i < intervals.shape[0]-1:\n",
    "            compare_one = intervals[i]\n",
    "            compare_two = intervals[i+1]\n",
    "            if compare_one[1] >= compare_two[0]:\n",
    "                merged_array = np.array([[compare_one[0], compare_two[1]]])\n",
    "                intervals = np.delete(intervals, i, 0)\n",
    "                intervals = np.delete(intervals, i, 0)\n",
    "                intervals = np.insert(intervals, i, merged_array, axis=0)\n",
    "                overlapping = True\n",
    "                i = 0\n",
    "            i += 1\n",
    "    return intervals"
   ]
  },
  {
   "cell_type": "code",
   "execution_count": 4,
   "id": "94ad2023",
   "metadata": {},
   "outputs": [
    {
     "name": "stdout",
     "output_type": "stream",
     "text": [
      "[[ 1  6]\n",
      " [ 8 10]\n",
      " [15 18]]\n"
     ]
    }
   ],
   "source": [
    "print(overlapping_remover(intervals_one))"
   ]
  },
  {
   "cell_type": "code",
   "execution_count": 6,
   "id": "3e24e788",
   "metadata": {},
   "outputs": [
    {
     "name": "stdout",
     "output_type": "stream",
     "text": [
      "[[1 5]]\n"
     ]
    }
   ],
   "source": [
    "print(overlapping_remover(intervals_two))"
   ]
  },
  {
   "cell_type": "code",
   "execution_count": 7,
   "id": "63322b5a",
   "metadata": {},
   "outputs": [
    {
     "name": "stdout",
     "output_type": "stream",
     "text": [
      "[[ 1  6]\n",
      " [ 8 10]\n",
      " [15 45]]\n"
     ]
    }
   ],
   "source": [
    "print(overlapping_remover(intervals_three))"
   ]
  },
  {
   "cell_type": "markdown",
   "id": "aa7d4a99",
   "metadata": {},
   "source": [
    "2. Implement computing determinant for any N by N (N ≤ 10) square matrix without using existing\n",
    "libraries for computing determinant such as numpy.linalg.det() (25 points).\n"
   ]
  },
  {
   "cell_type": "code",
   "execution_count": 14,
   "id": "2e028dcc",
   "metadata": {},
   "outputs": [],
   "source": [
    "from copy import deepcopy\n",
    "\n",
    "def miner_matrix(original_matrix, row, column):\n",
    "    miner_matrix = deepcopy(original_matrix)\n",
    "    miner_matrix.remove(original_matrix[row])\n",
    "    \n",
    "    for i in range(len(miner_matrix)):\n",
    "        miner_matrix[i].remove(miner_matrix[i][column])\n",
    "    return miner_matrix\n",
    "\n",
    "def determinant(matrix):\n",
    "    num_rows = len(matrix)\n",
    "    answer = 0\n",
    "    num_columns = num_rows\n",
    "    \n",
    "    if len(matrix) == 2:\n",
    "        two_by_two = matrix[0][0] * matrix[1][1] - matrix[1][0] * matrix[0][1]\n",
    "        return two_by_two\n",
    "    else :\n",
    "        for j in range(num_columns):\n",
    "            cofactor = (-1) ** (0+j) * matrix[0][j] * determinant(miner_matrix(matrix, 0, j))\n",
    "            answer += cofactor\n",
    "        return answer"
   ]
  },
  {
   "cell_type": "code",
   "execution_count": 17,
   "id": "622757d5",
   "metadata": {},
   "outputs": [
    {
     "name": "stdout",
     "output_type": "stream",
     "text": [
      "[[24 15 15 19]\n",
      " [18 20 23  1]\n",
      " [ 1  4  6 24]\n",
      " [21 14  2 11]]\n"
     ]
    }
   ],
   "source": [
    "#Generate matrix\n",
    "matrix = np.random.randint(25, size=(4, 4))\n",
    "print(matrix)"
   ]
  },
  {
   "cell_type": "code",
   "execution_count": 18,
   "id": "690a9d7b",
   "metadata": {},
   "outputs": [
    {
     "name": "stdout",
     "output_type": "stream",
     "text": [
      "72387\n",
      "72387.00000000006\n"
     ]
    }
   ],
   "source": [
    "#Check the calculated matrix is valid\n",
    "\n",
    "matrix = matrix.tolist()\n",
    "print(determinant(matrix))\n",
    "print(np.linalg.det(matrix))"
   ]
  },
  {
   "cell_type": "markdown",
   "id": "cef33cc9",
   "metadata": {},
   "source": [
    "3. (Scikit-learn and OpenCV) As a mini project, you will train Support Vector Machine classifier\n",
    "with SIFT features for MNIST digit dataset, i.e., multi-class classification. (50 points)\n",
    "MNIST dataset can be downloaded by using the following commands:"
   ]
  },
  {
   "cell_type": "code",
   "execution_count": 29,
   "id": "e0172d89",
   "metadata": {},
   "outputs": [],
   "source": [
    "#Load MNIST\n",
    "from keras.datasets import mnist\n",
    "import cv2\n",
    "\n",
    "(x_train, y_train), (x_test, y_test) = mnist.load_data()"
   ]
  },
  {
   "cell_type": "code",
   "execution_count": 41,
   "id": "b0fbc85f",
   "metadata": {},
   "outputs": [],
   "source": [
    "sift = cv2.SIFT_create()\n",
    "SIFT_train = []\n",
    "for i in range(len(x_train)):\n",
    "    sample_image = cv2.cvtColor(x_train[i], cv2.COLOR_GRAY2BGR)\n",
    "    keypoints, descriptors = sift.detectAndCompute(sample_image, None)"
   ]
  }
 ],
 "metadata": {
  "kernelspec": {
   "display_name": "Python 3 (ipykernel)",
   "language": "python",
   "name": "python3"
  },
  "language_info": {
   "codemirror_mode": {
    "name": "ipython",
    "version": 3
   },
   "file_extension": ".py",
   "mimetype": "text/x-python",
   "name": "python",
   "nbconvert_exporter": "python",
   "pygments_lexer": "ipython3",
   "version": "3.9.6"
  }
 },
 "nbformat": 4,
 "nbformat_minor": 5
}
